{
 "cells": [
  {
   "cell_type": "code",
   "execution_count": 2,
   "metadata": {},
   "outputs": [
    {
     "name": "stdout",
     "output_type": "stream",
     "text": [
      "2.1.0\n",
      "2.2.4-tf\n"
     ]
    }
   ],
   "source": [
    "import tensorflow as tf\n",
    "from tensorflow import keras\n",
    "import matplotlib.pyplot as plt\n",
    "import numpy as np\n",
    "\n",
    "#查看tf 和 keras 的版本\n",
    "print(tf.__version__)\n",
    "print(tf.keras.__version__)"
   ]
  },
  {
   "cell_type": "code",
   "execution_count": 9,
   "metadata": {},
   "outputs": [
    {
     "name": "stdout",
     "output_type": "stream",
     "text": [
      "(5000, 28, 28) (5000,)\n",
      "(55000, 28, 28) (55000,)\n",
      "(10000, 28, 28) (10000,)\n"
     ]
    }
   ],
   "source": [
    "# 从 keras.datasets 里面 加载 fashion_mnist 的数据集（很多种类的黑白图片）\n",
    "fashion_mnist = keras.datasets.fashion_mnist\n",
    "\n",
    "#拆分训练集和测试集\n",
    "(x_train_all, y_train_all), (x_test, y_test) = fashion_mnist.load_data()\n",
    "\n",
    "#把训练集拆分成 训练集和验证集   验证集取前5000个数据， 训练集取5000以后的数据\n",
    "x_vaild, x_train = x_train_all[:5000], x_train_all[5000:]\n",
    "y_vaild, y_train = y_train_all[:5000], y_train_all[5000:]\n",
    "\n",
    "#打印 训练集、验证集、测试集的格式    （通过结果可以发现，验证集有5000个28*28的numpy数组，像素位在0~255 的数据，训练集有55000个，测试集有10000个）\n",
    "print(x_vaild.shape, y_vaild.shape)\n",
    "print(x_train.shape, y_train.shape) \n",
    "print(x_test.shape, y_test.shape)\n"
   ]
  },
  {
   "cell_type": "code",
   "execution_count": 20,
   "metadata": {},
   "outputs": [
    {
     "name": "stdout",
     "output_type": "stream",
     "text": [
      "255 0\n"
     ]
    }
   ],
   "source": [
    "print(np.max(x_train), np.min(x_train))"
   ]
  },
  {
   "cell_type": "code",
   "execution_count": 18,
   "metadata": {},
   "outputs": [],
   "source": [
    "#进行数据归一化   # x =  (x-u) / std   u:均值   std:方差    --> 使用fit_transform方法实现\n",
    "import sklearn\n",
    "from sklearn.preprocessing import StandardScaler\n",
    "scaler = StandardScaler()\n",
    "\n",
    "x_train_scaled = scaler.fit_transform(x_train.astype(np.float32).reshape(-1,1)).reshape(-1,28,28)\n",
    "\n",
    "x_vaild_scaled = scaler.transform(x_vaild.astype(np.float32).reshape(-1,1)).reshape(-1,28,28)\n",
    "\n",
    "x_test_scaled = scaler.transform(x_test.astype(np.float32).reshape(-1,1)).reshape(-1,28,28)\n"
   ]
  },
  {
   "cell_type": "code",
   "execution_count": 22,
   "metadata": {},
   "outputs": [
    {
     "name": "stdout",
     "output_type": "stream",
     "text": [
      "2.0231433 -0.8105136\n"
     ]
    }
   ],
   "source": [
    "print(np.max(x_train_scaled), np.min(x_train_scaled))"
   ]
  },
  {
   "cell_type": "code",
   "execution_count": 24,
   "metadata": {},
   "outputs": [],
   "source": [
    "#tf.keras.models.Sequential()\n",
    "\n",
    "model = keras.models.Sequential()\n",
    "model.add(keras.layers.Flatten(input_shape = [28,28]))\n",
    "model.add(keras.layers.Dense(300, activation=\"relu\"))\n",
    "model.add(keras.layers.Dense(100, activation=\"relu\"))\n",
    "model.add(keras.layers.Dense(10, activation=\"softmax\"))\n",
    "\n",
    "#relu : y = max(0, x)\n",
    "#softmax: 将向量变成概率分布   x = [x1, x2, x3] ,\n",
    "#                          y = [e^x1/sum, e^x2/sum, e^x3/sum], 注意 此处的x1，x2, x3为x的一次方，二次方，三次方\n",
    "#                          sum = e^x1 + e^x2 + e^x3 , 注意 此处的x1，x2, x3为x的一次方，二次方，三次方\n",
    "\n",
    "#why sparce: y->index.  y->one_hot->[向量] , 如果y已经是向量即categorical_crossentropy, 如果不是即sparse_...\n",
    "model.compile(loss = \"sparse_categorical_crossentropy\",  \n",
    "               optimizer = \"adam\", #优化器\n",
    "               metrics = [\"accuracy\"])"
   ]
  },
  {
   "cell_type": "code",
   "execution_count": 33,
   "metadata": {},
   "outputs": [
    {
     "name": "stdout",
     "output_type": "stream",
     "text": [
      "Train on 55000 samples, validate on 5000 samples\n",
      "Epoch 1/10\n",
      "55000/55000 [==============================] - 8s 139us/sample - loss: 0.3344 - accuracy: 0.8799 - val_loss: 0.3342 - val_accuracy: 0.8840\n",
      "Epoch 2/10\n",
      "55000/55000 [==============================] - 7s 125us/sample - loss: 0.2407 - accuracy: 0.9089 - val_loss: 0.3347 - val_accuracy: 0.8868\n",
      "Epoch 3/10\n",
      "55000/55000 [==============================] - 7s 130us/sample - loss: 0.2215 - accuracy: 0.9171 - val_loss: 0.3447 - val_accuracy: 0.8936\n",
      "Epoch 4/10\n",
      "55000/55000 [==============================] - 7s 132us/sample - loss: 0.2103 - accuracy: 0.9197 - val_loss: 0.3574 - val_accuracy: 0.8872\n",
      "Epoch 5/10\n",
      "55000/55000 [==============================] - 9s 163us/sample - loss: 0.1951 - accuracy: 0.9259 - val_loss: 0.3458 - val_accuracy: 0.8962\n",
      "Epoch 6/10\n",
      "55000/55000 [==============================] - 10s 183us/sample - loss: 0.1850 - accuracy: 0.9308 - val_loss: 0.3612 - val_accuracy: 0.8932\n",
      "Epoch 7/10\n",
      "55000/55000 [==============================] - 9s 156us/sample - loss: 0.1780 - accuracy: 0.9319 - val_loss: 0.3744 - val_accuracy: 0.8964\n",
      "Epoch 8/10\n",
      "55000/55000 [==============================] - 8s 144us/sample - loss: 0.1687 - accuracy: 0.9362 - val_loss: 0.3676 - val_accuracy: 0.8904\n",
      "Epoch 9/10\n",
      "55000/55000 [==============================] - 9s 167us/sample - loss: 0.1630 - accuracy: 0.9381 - val_loss: 0.3973 - val_accuracy: 0.8926\n",
      "Epoch 10/10\n",
      "55000/55000 [==============================] - 10s 173us/sample - loss: 0.1547 - accuracy: 0.9407 - val_loss: 0.4204 - val_accuracy: 0.8866\n"
     ]
    }
   ],
   "source": [
    "#使用fit方法进行训练模型，  epoches为训练次数， 结果中loss为待减少的损失值， accuracy为准确率, 验证准确率使用的数据集为x_vaild\n",
    "history = model.fit(x_train_scaled, y_train, epochs = 10,\n",
    "         validation_data = (x_vaild_scaled, y_vaild))  "
   ]
  },
  {
   "cell_type": "code",
   "execution_count": null,
   "metadata": {},
   "outputs": [],
   "source": [
    "# 未进行归一化方法的数据训练后模型的vaild_acc 达到 0.7626\n",
    "# 进行归一化方法后的数据训练后模型的vaild_acc达到 0.8954"
   ]
  },
  {
   "cell_type": "code",
   "execution_count": 34,
   "metadata": {},
   "outputs": [
    {
     "name": "stdout",
     "output_type": "stream",
     "text": [
      "10000/10000 [==============================] - 1s 51us/sample - loss: 0.4443 - accuracy: 0.8792\n",
      "   test_acc: 0.8792\n"
     ]
    }
   ],
   "source": [
    "#使用model.evaluate() 方法来验证测试集的准确率\n",
    "test_loss , test_acc = model.evaluate(x_test_scaled, y_test) \n",
    "print(\"   test_acc:\",test_acc)"
   ]
  },
  {
   "cell_type": "code",
   "execution_count": null,
   "metadata": {},
   "outputs": [],
   "source": [
    "# 未归一化   ：test_acc 0.7498\n",
    "# 归一化之后 ：test_acc 0.8792"
   ]
  },
  {
   "cell_type": "code",
   "execution_count": null,
   "metadata": {},
   "outputs": [],
   "source": [
    "# 通过对比前后归一化数据 模型的准确率变化， 可以看出 对数据进行归一化处理还是非常有必要的"
   ]
  }
 ],
 "metadata": {
  "kernelspec": {
   "display_name": "Python 3",
   "language": "python",
   "name": "python3"
  },
  "language_info": {
   "codemirror_mode": {
    "name": "ipython",
    "version": 3
   },
   "file_extension": ".py",
   "mimetype": "text/x-python",
   "name": "python",
   "nbconvert_exporter": "python",
   "pygments_lexer": "ipython3",
   "version": "3.6.6"
  }
 },
 "nbformat": 4,
 "nbformat_minor": 4
}
