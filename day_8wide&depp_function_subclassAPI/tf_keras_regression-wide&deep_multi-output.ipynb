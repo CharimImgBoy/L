{
 "cells": [
  {
   "cell_type": "code",
   "execution_count": 1,
   "metadata": {},
   "outputs": [
    {
     "name": "stdout",
     "output_type": "stream",
     "text": [
      "2.1.0\n",
      "2.2.4-tf\n"
     ]
    }
   ],
   "source": [
    "import tensorflow as tf\n",
    "from tensorflow import keras\n",
    "import matplotlib.pyplot as plt\n",
    "import numpy as np\n",
    "import os\n",
    "import sys\n",
    "import pandas as pd\n",
    "\n",
    "#查看tf 和 keras 的版本\n",
    "print(tf.__version__)\n",
    "print(tf.keras.__version__)"
   ]
  },
  {
   "cell_type": "code",
   "execution_count": 2,
   "metadata": {},
   "outputs": [
    {
     "name": "stdout",
     "output_type": "stream",
     "text": [
      ".. _california_housing_dataset:\n",
      "\n",
      "California Housing dataset\n",
      "--------------------------\n",
      "\n",
      "**Data Set Characteristics:**\n",
      "\n",
      "    :Number of Instances: 20640\n",
      "\n",
      "    :Number of Attributes: 8 numeric, predictive attributes and the target\n",
      "\n",
      "    :Attribute Information:\n",
      "        - MedInc        median income in block\n",
      "        - HouseAge      median house age in block\n",
      "        - AveRooms      average number of rooms\n",
      "        - AveBedrms     average number of bedrooms\n",
      "        - Population    block population\n",
      "        - AveOccup      average house occupancy\n",
      "        - Latitude      house block latitude\n",
      "        - Longitude     house block longitude\n",
      "\n",
      "    :Missing Attribute Values: None\n",
      "\n",
      "This dataset was obtained from the StatLib repository.\n",
      "http://lib.stat.cmu.edu/datasets/\n",
      "\n",
      "The target variable is the median house value for California districts.\n",
      "\n",
      "This dataset was derived from the 1990 U.S. census, using one row per census\n",
      "block group. A block group is the smallest geographical unit for which the U.S.\n",
      "Census Bureau publishes sample data (a block group typically has a population\n",
      "of 600 to 3,000 people).\n",
      "\n",
      "It can be downloaded/loaded using the\n",
      ":func:`sklearn.datasets.fetch_california_housing` function.\n",
      "\n",
      ".. topic:: References\n",
      "\n",
      "    - Pace, R. Kelley and Ronald Barry, Sparse Spatial Autoregressions,\n",
      "      Statistics and Probability Letters, 33 (1997) 291-297\n",
      "\n",
      "(20640, 8)\n",
      "(20640,)\n"
     ]
    }
   ],
   "source": [
    "from sklearn.datasets import fetch_california_housing\n",
    "#导入加利福利亚的房价信息\n",
    "\n",
    "housing = fetch_california_housing()\n",
    "print(housing.DESCR)\n",
    "print(housing.data.shape)\n",
    "print(housing.target.shape)"
   ]
  },
  {
   "cell_type": "code",
   "execution_count": 3,
   "metadata": {},
   "outputs": [
    {
     "name": "stdout",
     "output_type": "stream",
     "text": [
      "(11610, 8) (11610,)\n",
      "(3870, 8) (3870,)\n",
      "(5160, 8) (5160,)\n"
     ]
    }
   ],
   "source": [
    "# 切分训练集，测试集\n",
    "from sklearn.model_selection import train_test_split\n",
    "\n",
    "x_train_all ,x_test ,y_train_all, y_test = train_test_split(housing.data, housing.target, random_state = 7)\n",
    "x_train, x_valid, y_train, y_valid = train_test_split(x_train_all, y_train_all, random_state = 11)\n",
    "\n",
    "print(x_train.shape, y_train.shape)\n",
    "print(x_valid.shape, y_valid.shape)\n",
    "print(x_test.shape, y_test.shape)"
   ]
  },
  {
   "cell_type": "code",
   "execution_count": 4,
   "metadata": {},
   "outputs": [],
   "source": [
    "from sklearn.preprocessing import StandardScaler\n",
    "\n",
    "scaler = StandardScaler()\n",
    "x_train_scaler = scaler.fit_transform(x_train)\n",
    "x_valid_scaler = scaler.fit_transform(x_valid)\n",
    "x_test_scaler = scaler.fit_transform(x_test)"
   ]
  },
  {
   "cell_type": "code",
   "execution_count": 5,
   "metadata": {},
   "outputs": [
    {
     "name": "stdout",
     "output_type": "stream",
     "text": [
      "Model: \"model\"\n",
      "__________________________________________________________________________________________________\n",
      "Layer (type)                    Output Shape         Param #     Connected to                     \n",
      "==================================================================================================\n",
      "input_2 (InputLayer)            [(None, 6)]          0                                            \n",
      "__________________________________________________________________________________________________\n",
      "dense (Dense)                   (None, 30)           210         input_2[0][0]                    \n",
      "__________________________________________________________________________________________________\n",
      "input_1 (InputLayer)            [(None, 5)]          0                                            \n",
      "__________________________________________________________________________________________________\n",
      "dense_1 (Dense)                 (None, 30)           930         dense[0][0]                      \n",
      "__________________________________________________________________________________________________\n",
      "concatenate (Concatenate)       (None, 35)           0           input_1[0][0]                    \n",
      "                                                                 dense_1[0][0]                    \n",
      "__________________________________________________________________________________________________\n",
      "dense_2 (Dense)                 (None, 1)            36          concatenate[0][0]                \n",
      "__________________________________________________________________________________________________\n",
      "dense_3 (Dense)                 (None, 1)            31          dense_1[0][0]                    \n",
      "==================================================================================================\n",
      "Total params: 1,207\n",
      "Trainable params: 1,207\n",
      "Non-trainable params: 0\n",
      "__________________________________________________________________________________________________\n"
     ]
    }
   ],
   "source": [
    "#多输入 + 多输出\n",
    "input_wide = keras.layers.Input(shape = [5])\n",
    "input_deep = keras.layers.Input(shape = [6])\n",
    "hidden1 = keras.layers.Dense(30, activation= 'relu')(input_deep)\n",
    "hidden2 = keras.layers.Dense(30, activation= 'relu')(hidden1)\n",
    "concat = keras.layers.concatenate([input_wide, hidden2])\n",
    "output = keras.layers.Dense(1)(concat)\n",
    "output2 = keras.layers.Dense(1)(hidden2)\n",
    "model = keras.models.Model(inputs = [input_wide, input_deep], outputs = [output, output2])\n",
    "\n",
    "\n",
    "\n",
    "model.summary()\n",
    "model.compile(loss=\"mean_squared_error\", optimizer=\"adam\")\n",
    "callbacks = [keras.callbacks.EarlyStopping(patience=5, min_delta=0.000001)]"
   ]
  },
  {
   "cell_type": "code",
   "execution_count": 6,
   "metadata": {
    "scrolled": true
   },
   "outputs": [
    {
     "name": "stdout",
     "output_type": "stream",
     "text": [
      "Train on 11610 samples, validate on 3870 samples\n",
      "Epoch 1/100\n",
      "11610/11610 [==============================] - 1s 80us/sample - loss: 3.4719 - dense_2_loss: 1.4889 - dense_3_loss: 1.9822 - val_loss: 1.5966 - val_dense_2_loss: 0.6535 - val_dense_3_loss: 0.9430\n",
      "Epoch 2/100\n",
      "11610/11610 [==============================] - 0s 41us/sample - loss: 1.1957 - dense_2_loss: 0.5077 - dense_3_loss: 0.6879 - val_loss: 1.1437 - val_dense_2_loss: 0.4764 - val_dense_3_loss: 0.6671\n",
      "Epoch 3/100\n",
      "11610/11610 [==============================] - 0s 40us/sample - loss: 1.0025 - dense_2_loss: 0.4232 - dense_3_loss: 0.5794 - val_loss: 1.0960 - val_dense_2_loss: 0.4582 - val_dense_3_loss: 0.6377\n",
      "Epoch 4/100\n",
      "11610/11610 [==============================] - 0s 40us/sample - loss: 0.9495 - dense_2_loss: 0.4070 - dense_3_loss: 0.5423 - val_loss: 1.0559 - val_dense_2_loss: 0.4414 - val_dense_3_loss: 0.6143\n",
      "Epoch 5/100\n",
      "11610/11610 [==============================] - 0s 40us/sample - loss: 0.9179 - dense_2_loss: 0.3958 - dense_3_loss: 0.5221 - val_loss: 1.0757 - val_dense_2_loss: 0.4545 - val_dense_3_loss: 0.6209\n",
      "Epoch 6/100\n",
      "11610/11610 [==============================] - 0s 41us/sample - loss: 0.8779 - dense_2_loss: 0.3839 - dense_3_loss: 0.4939 - val_loss: 1.0325 - val_dense_2_loss: 0.4418 - val_dense_3_loss: 0.5905\n",
      "Epoch 7/100\n",
      "11610/11610 [==============================] - 0s 40us/sample - loss: 0.8413 - dense_2_loss: 0.3731 - dense_3_loss: 0.4688 - val_loss: 1.0272 - val_dense_2_loss: 0.4438 - val_dense_3_loss: 0.5832\n",
      "Epoch 8/100\n",
      "11610/11610 [==============================] - 0s 40us/sample - loss: 0.8275 - dense_2_loss: 0.3694 - dense_3_loss: 0.4582 - val_loss: 1.0054 - val_dense_2_loss: 0.4257 - val_dense_3_loss: 0.5796\n",
      "Epoch 9/100\n",
      "11610/11610 [==============================] - 0s 40us/sample - loss: 0.7981 - dense_2_loss: 0.3577 - dense_3_loss: 0.4403 - val_loss: 0.9866 - val_dense_2_loss: 0.4224 - val_dense_3_loss: 0.5639\n",
      "Epoch 10/100\n",
      "11610/11610 [==============================] - 0s 41us/sample - loss: 0.7793 - dense_2_loss: 0.3534 - dense_3_loss: 0.4261 - val_loss: 0.9657 - val_dense_2_loss: 0.4175 - val_dense_3_loss: 0.5479\n",
      "Epoch 11/100\n",
      "11610/11610 [==============================] - 0s 41us/sample - loss: 0.7631 - dense_2_loss: 0.3459 - dense_3_loss: 0.4172 - val_loss: 0.9611 - val_dense_2_loss: 0.4208 - val_dense_3_loss: 0.5401\n",
      "Epoch 12/100\n",
      "11610/11610 [==============================] - 0s 41us/sample - loss: 0.7561 - dense_2_loss: 0.3441 - dense_3_loss: 0.4119 - val_loss: 0.9784 - val_dense_2_loss: 0.4217 - val_dense_3_loss: 0.5565\n",
      "Epoch 13/100\n",
      "11610/11610 [==============================] - 0s 42us/sample - loss: 0.7616 - dense_2_loss: 0.3480 - dense_3_loss: 0.4136 - val_loss: 0.9934 - val_dense_2_loss: 0.4343 - val_dense_3_loss: 0.5589\n",
      "Epoch 14/100\n",
      "11610/11610 [==============================] - 0s 42us/sample - loss: 0.7443 - dense_2_loss: 0.3395 - dense_3_loss: 0.4048 - val_loss: 1.0699 - val_dense_2_loss: 0.4679 - val_dense_3_loss: 0.6018\n",
      "Epoch 15/100\n",
      "11610/11610 [==============================] - 0s 41us/sample - loss: 0.7357 - dense_2_loss: 0.3361 - dense_3_loss: 0.3996 - val_loss: 0.9955 - val_dense_2_loss: 0.4320 - val_dense_3_loss: 0.5633\n",
      "Epoch 16/100\n",
      "11610/11610 [==============================] - 0s 41us/sample - loss: 0.7274 - dense_2_loss: 0.3329 - dense_3_loss: 0.3945 - val_loss: 0.9429 - val_dense_2_loss: 0.4094 - val_dense_3_loss: 0.5333\n",
      "Epoch 17/100\n",
      "11610/11610 [==============================] - 0s 42us/sample - loss: 0.7201 - dense_2_loss: 0.3286 - dense_3_loss: 0.3915 - val_loss: 1.0437 - val_dense_2_loss: 0.4504 - val_dense_3_loss: 0.5930\n",
      "Epoch 18/100\n",
      "11610/11610 [==============================] - 1s 54us/sample - loss: 0.7237 - dense_2_loss: 0.3306 - dense_3_loss: 0.3931 - val_loss: 0.9965 - val_dense_2_loss: 0.4330 - val_dense_3_loss: 0.5632\n",
      "Epoch 19/100\n",
      "11610/11610 [==============================] - 1s 52us/sample - loss: 0.7192 - dense_2_loss: 0.3287 - dense_3_loss: 0.3904 - val_loss: 1.0357 - val_dense_2_loss: 0.4488 - val_dense_3_loss: 0.5868\n",
      "Epoch 20/100\n",
      "11610/11610 [==============================] - 1s 44us/sample - loss: 0.7105 - dense_2_loss: 0.3246 - dense_3_loss: 0.3857 - val_loss: 1.1256 - val_dense_2_loss: 0.4914 - val_dense_3_loss: 0.6339\n",
      "Epoch 21/100\n",
      "11610/11610 [==============================] - 1s 45us/sample - loss: 0.7054 - dense_2_loss: 0.3234 - dense_3_loss: 0.3819 - val_loss: 1.0232 - val_dense_2_loss: 0.4396 - val_dense_3_loss: 0.5833\n"
     ]
    }
   ],
   "source": [
    "x_train_scaler_wide = x_train_scaler[:, :5]\n",
    "x_train_scaler_deep = x_train_scaler[:, 2:]\n",
    "x_valid_scaler_wide = x_valid_scaler[:, :5]\n",
    "x_valid_scaler_deep = x_valid_scaler[:, 2:]\n",
    "x_test_scaler_wide = x_test_scaler[:, :5]\n",
    "x_test_scaler_deep = x_test_scaler[:, 2:]\n",
    "\n",
    "\n",
    "history = model.fit([x_train_scaler_wide, x_train_scaler_deep], [y_train, y_train],\n",
    "                    validation_data = ([x_valid_scaler_wide,x_valid_scaler_deep],[y_valid, y_valid]),\n",
    "                    epochs = 100,\n",
    "                    callbacks = callbacks       \n",
    "                   )"
   ]
  },
  {
   "cell_type": "code",
   "execution_count": null,
   "metadata": {},
   "outputs": [],
   "source": [
    "print(history.history)"
   ]
  },
  {
   "cell_type": "code",
   "execution_count": 7,
   "metadata": {},
   "outputs": [
    {
     "data": {
      "image/png": "[encoded data removed]",
      "text/plain": [
       "<Figure size 576x360 with 1 Axes>"
      ]
     },
     "metadata": {
      "needs_background": "light"
     },
     "output_type": "display_data"
    }
   ],
   "source": [
    "def plot_learning_curves(history):\n",
    "    pd.DataFrame(history.history).plot(figsize = (8,5))\n",
    "    plt.grid(True)\n",
    "    plt.gca().set_ylim(0,1)\n",
    "    plt.show()\n",
    "    \n",
    "plot_learning_curves(history)"
   ]
  },
  {
   "cell_type": "code",
   "execution_count": 8,
   "metadata": {},
   "outputs": [
    {
     "name": "stdout",
     "output_type": "stream",
     "text": [
      "5160/5160 [==============================] - 0s 21us/sample - loss: 0.9128 - dense_2_loss: 0.4044 - dense_3_loss: 0.5121\n"
     ]
    },
    {
     "data": {
      "text/plain": [
       "[0.9127722705057425, 0.40436465, 0.5121186]"
      ]
     },
     "execution_count": 8,
     "metadata": {},
     "output_type": "execute_result"
    }
   ],
   "source": [
    "model.evaluate([x_test_scaler_wide, x_test_scaler_deep], [y_test, y_test])"
   ]
  },
  {
   "cell_type": "code",
   "execution_count": null,
   "metadata": {},
   "outputs": [],
   "source": []
  }
 ],
 "metadata": {
  "kernelspec": {
   "display_name": "Python 3",
   "language": "python",
   "name": "python3"
  },
  "language_info": {
   "codemirror_mode": {
    "name": "ipython",
    "version": 3
   },
   "file_extension": ".py",
   "mimetype": "text/x-python",
   "name": "python",
   "nbconvert_exporter": "python",
   "pygments_lexer": "ipython3",
   "version": "3.6.6"
  }
 },
 "nbformat": 4,
 "nbformat_minor": 4
}
