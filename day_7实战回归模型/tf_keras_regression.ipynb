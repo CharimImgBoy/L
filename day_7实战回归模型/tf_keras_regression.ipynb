{
 "cells": [
  {
   "cell_type": "code",
   "execution_count": 1,
   "metadata": {},
   "outputs": [
    {
     "name": "stdout",
     "output_type": "stream",
     "text": [
      "2.1.0\n",
      "2.2.4-tf\n"
     ]
    }
   ],
   "source": [
    "import tensorflow as tf\n",
    "from tensorflow import keras\n",
    "import matplotlib.pyplot as plt\n",
    "import numpy as np\n",
    "import os\n",
    "import sys\n",
    "import pandas as pd\n",
    "\n",
    "#查看tf 和 keras 的版本\n",
    "print(tf.__version__)\n",
    "print(tf.keras.__version__)"
   ]
  },
  {
   "cell_type": "code",
   "execution_count": 2,
   "metadata": {},
   "outputs": [
    {
     "name": "stdout",
     "output_type": "stream",
     "text": [
      ".. _california_housing_dataset:\n",
      "\n",
      "California Housing dataset\n",
      "--------------------------\n",
      "\n",
      "**Data Set Characteristics:**\n",
      "\n",
      "    :Number of Instances: 20640\n",
      "\n",
      "    :Number of Attributes: 8 numeric, predictive attributes and the target\n",
      "\n",
      "    :Attribute Information:\n",
      "        - MedInc        median income in block\n",
      "        - HouseAge      median house age in block\n",
      "        - AveRooms      average number of rooms\n",
      "        - AveBedrms     average number of bedrooms\n",
      "        - Population    block population\n",
      "        - AveOccup      average house occupancy\n",
      "        - Latitude      house block latitude\n",
      "        - Longitude     house block longitude\n",
      "\n",
      "    :Missing Attribute Values: None\n",
      "\n",
      "This dataset was obtained from the StatLib repository.\n",
      "http://lib.stat.cmu.edu/datasets/\n",
      "\n",
      "The target variable is the median house value for California districts.\n",
      "\n",
      "This dataset was derived from the 1990 U.S. census, using one row per census\n",
      "block group. A block group is the smallest geographical unit for which the U.S.\n",
      "Census Bureau publishes sample data (a block group typically has a population\n",
      "of 600 to 3,000 people).\n",
      "\n",
      "It can be downloaded/loaded using the\n",
      ":func:`sklearn.datasets.fetch_california_housing` function.\n",
      "\n",
      ".. topic:: References\n",
      "\n",
      "    - Pace, R. Kelley and Ronald Barry, Sparse Spatial Autoregressions,\n",
      "      Statistics and Probability Letters, 33 (1997) 291-297\n",
      "\n",
      "(20640, 8)\n",
      "(20640,)\n"
     ]
    }
   ],
   "source": [
    "from sklearn.datasets import fetch_california_housing\n",
    "#导入加利福利亚的房价信息\n",
    "\n",
    "housing = fetch_california_housing()\n",
    "print(housing.DESCR)\n",
    "print(housing.data.shape)\n",
    "print(housing.target.shape)"
   ]
  },
  {
   "cell_type": "code",
   "execution_count": 3,
   "metadata": {},
   "outputs": [
    {
     "name": "stdout",
     "output_type": "stream",
     "text": [
      "array([[ 8.32520000e+00,  4.10000000e+01,  6.98412698e+00,\n",
      "         1.02380952e+00,  3.22000000e+02,  2.55555556e+00,\n",
      "         3.78800000e+01, -1.22230000e+02],\n",
      "       [ 8.30140000e+00,  2.10000000e+01,  6.23813708e+00,\n",
      "         9.71880492e-01,  2.40100000e+03,  2.10984183e+00,\n",
      "         3.78600000e+01, -1.22220000e+02],\n",
      "       [ 7.25740000e+00,  5.20000000e+01,  8.28813559e+00,\n",
      "         1.07344633e+00,  4.96000000e+02,  2.80225989e+00,\n",
      "         3.78500000e+01, -1.22240000e+02],\n",
      "       [ 5.64310000e+00,  5.20000000e+01,  5.81735160e+00,\n",
      "         1.07305936e+00,  5.58000000e+02,  2.54794521e+00,\n",
      "         3.78500000e+01, -1.22250000e+02],\n",
      "       [ 3.84620000e+00,  5.20000000e+01,  6.28185328e+00,\n",
      "         1.08108108e+00,  5.65000000e+02,  2.18146718e+00,\n",
      "         3.78500000e+01, -1.22250000e+02]])\n",
      "array([4.526, 3.585, 3.521, 3.413, 3.422])\n"
     ]
    }
   ],
   "source": [
    "import pprint\n",
    "\n",
    "pprint.pprint(housing.data[0:5])\n",
    "pprint.pprint(housing.target[0:5])\n"
   ]
  },
  {
   "cell_type": "code",
   "execution_count": 4,
   "metadata": {},
   "outputs": [
    {
     "name": "stdout",
     "output_type": "stream",
     "text": [
      "(11610, 8) (11610,)\n",
      "(3870, 8) (3870,)\n",
      "(5160, 8) (5160,)\n"
     ]
    }
   ],
   "source": [
    "# 切分训练集，测试集\n",
    "from sklearn.model_selection import train_test_split\n",
    "\n",
    "x_train_all ,x_test ,y_train_all, y_test = train_test_split(housing.data, housing.target, random_state = 7)\n",
    "x_train, x_valid, y_train, y_valid = train_test_split(x_train_all, y_train_all, random_state = 11)\n",
    "\n",
    "print(x_train.shape, y_train.shape)\n",
    "print(x_valid.shape, y_valid.shape)\n",
    "print(x_test.shape, y_test.shape)"
   ]
  },
  {
   "cell_type": "code",
   "execution_count": 5,
   "metadata": {},
   "outputs": [],
   "source": [
    "from sklearn.preprocessing import StandardScaler\n",
    "\n",
    "scaler = StandardScaler()\n",
    "x_train_scaler = scaler.fit_transform(x_train)\n",
    "x_valid_scaler = scaler.fit_transform(x_valid)\n",
    "x_test_scaler = scaler.fit_transform(x_test)"
   ]
  },
  {
   "cell_type": "code",
   "execution_count": 15,
   "metadata": {},
   "outputs": [
    {
     "name": "stdout",
     "output_type": "stream",
     "text": [
      "Model: \"sequential_3\"\n",
      "_________________________________________________________________\n",
      "Layer (type)                 Output Shape              Param #   \n",
      "=================================================================\n",
      "dense_6 (Dense)              (None, 30)                270       \n",
      "_________________________________________________________________\n",
      "dense_7 (Dense)              (None, 1)                 31        \n",
      "=================================================================\n",
      "Total params: 301\n",
      "Trainable params: 301\n",
      "Non-trainable params: 0\n",
      "_________________________________________________________________\n"
     ]
    }
   ],
   "source": [
    "model = keras.models.Sequential([\n",
    "    keras.layers.Dense(30, activation='relu', input_shape = x_train.shape[1:]),\n",
    "    keras.layers.Dense(1),\n",
    "])\n",
    "\n",
    "model.summary()\n",
    "model.compile(loss=\"mean_squared_error\", optimizer='SGD')\n",
    "callbacks = [keras.callbacks.EarlyStopping(patience=5, min_delta=0.000001)]"
   ]
  },
  {
   "cell_type": "code",
   "execution_count": 16,
   "metadata": {},
   "outputs": [
    {
     "name": "stdout",
     "output_type": "stream",
     "text": [
      "Train on 11610 samples, validate on 3870 samples\n",
      "Epoch 1/100\n",
      "11610/11610 [==============================] - 1s 61us/sample - loss: 0.7162 - accuracy: 0.0029 - val_loss: 0.8061 - val_accuracy: 0.0023\n",
      "Epoch 2/100\n",
      "11610/11610 [==============================] - 0s 32us/sample - loss: 0.6916 - accuracy: 0.0031 - val_loss: 0.4896 - val_accuracy: 0.0023\n",
      "Epoch 3/100\n",
      "11610/11610 [==============================] - 0s 32us/sample - loss: 0.4557 - accuracy: 0.0031 - val_loss: 0.4371 - val_accuracy: 0.0023\n",
      "Epoch 4/100\n",
      "11610/11610 [==============================] - 0s 33us/sample - loss: 0.4470 - accuracy: 0.0031 - val_loss: 0.4245 - val_accuracy: 0.0023\n",
      "Epoch 5/100\n",
      "11610/11610 [==============================] - 0s 32us/sample - loss: 0.4197 - accuracy: 0.0031 - val_loss: 0.4141 - val_accuracy: 0.0023\n",
      "Epoch 6/100\n",
      "11610/11610 [==============================] - 0s 33us/sample - loss: 0.4153 - accuracy: 0.0031 - val_loss: 0.4072 - val_accuracy: 0.0023\n",
      "Epoch 7/100\n",
      "11610/11610 [==============================] - 0s 33us/sample - loss: 0.4002 - accuracy: 0.0031 - val_loss: 0.4344 - val_accuracy: 0.0023\n",
      "Epoch 8/100\n",
      "11610/11610 [==============================] - 0s 32us/sample - loss: 0.3972 - accuracy: 0.0031 - val_loss: 0.3963 - val_accuracy: 0.0023\n",
      "Epoch 9/100\n",
      "11610/11610 [==============================] - 0s 32us/sample - loss: 0.3892 - accuracy: 0.0031 - val_loss: 0.4186 - val_accuracy: 0.0023\n",
      "Epoch 10/100\n",
      "11610/11610 [==============================] - 0s 32us/sample - loss: 0.3844 - accuracy: 0.0031 - val_loss: 0.3975 - val_accuracy: 0.0023\n",
      "Epoch 11/100\n",
      "11610/11610 [==============================] - 0s 32us/sample - loss: 0.3824 - accuracy: 0.0031 - val_loss: 0.3947 - val_accuracy: 0.0023\n",
      "Epoch 12/100\n",
      "11610/11610 [==============================] - 0s 32us/sample - loss: 0.3900 - accuracy: 0.0031 - val_loss: 0.3917 - val_accuracy: 0.0023\n",
      "Epoch 13/100\n",
      "11610/11610 [==============================] - 0s 32us/sample - loss: 0.3756 - accuracy: 0.0031 - val_loss: 0.3920 - val_accuracy: 0.0023\n",
      "Epoch 14/100\n",
      "11610/11610 [==============================] - 0s 32us/sample - loss: 0.3959 - accuracy: 0.0031 - val_loss: 0.3871 - val_accuracy: 0.0023\n",
      "Epoch 15/100\n",
      "11610/11610 [==============================] - 0s 33us/sample - loss: 0.3697 - accuracy: 0.0031 - val_loss: 0.3844 - val_accuracy: 0.0023\n",
      "Epoch 16/100\n",
      "11610/11610 [==============================] - 0s 32us/sample - loss: 0.3724 - accuracy: 0.0031 - val_loss: 0.3827 - val_accuracy: 0.0023\n",
      "Epoch 17/100\n",
      "11610/11610 [==============================] - 0s 32us/sample - loss: 0.3656 - accuracy: 0.0031 - val_loss: 0.3860 - val_accuracy: 0.0023\n",
      "Epoch 18/100\n",
      "11610/11610 [==============================] - 0s 32us/sample - loss: 0.3687 - accuracy: 0.0031 - val_loss: 0.3853 - val_accuracy: 0.0023\n",
      "Epoch 19/100\n",
      "11610/11610 [==============================] - 0s 32us/sample - loss: 0.3617 - accuracy: 0.0031 - val_loss: 0.3799 - val_accuracy: 0.0023\n",
      "Epoch 20/100\n",
      "11610/11610 [==============================] - 0s 32us/sample - loss: 0.3777 - accuracy: 0.0031 - val_loss: 0.3809 - val_accuracy: 0.0021\n",
      "Epoch 21/100\n",
      "11610/11610 [==============================] - 0s 33us/sample - loss: 0.3659 - accuracy: 0.0031 - val_loss: 0.3790 - val_accuracy: 0.0023\n",
      "Epoch 22/100\n",
      "11610/11610 [==============================] - 0s 32us/sample - loss: 0.3590 - accuracy: 0.0031 - val_loss: 0.3785 - val_accuracy: 0.0021\n",
      "Epoch 23/100\n",
      "11610/11610 [==============================] - 0s 33us/sample - loss: 0.3575 - accuracy: 0.0031 - val_loss: 0.3757 - val_accuracy: 0.0021\n",
      "Epoch 24/100\n",
      "11610/11610 [==============================] - 0s 33us/sample - loss: 0.3989 - accuracy: 0.0031 - val_loss: 0.4098 - val_accuracy: 0.0021\n",
      "Epoch 25/100\n",
      "11610/11610 [==============================] - 0s 32us/sample - loss: 0.3582 - accuracy: 0.0031 - val_loss: 0.3922 - val_accuracy: 0.0021\n",
      "Epoch 26/100\n",
      "11610/11610 [==============================] - 0s 32us/sample - loss: 0.3525 - accuracy: 0.0031 - val_loss: 0.3813 - val_accuracy: 0.0023\n",
      "Epoch 27/100\n",
      "11610/11610 [==============================] - 0s 32us/sample - loss: 0.3672 - accuracy: 0.0031 - val_loss: 0.3740 - val_accuracy: 0.0021\n",
      "Epoch 28/100\n",
      "11610/11610 [==============================] - 0s 32us/sample - loss: 0.3687 - accuracy: 0.0031 - val_loss: 0.3780 - val_accuracy: 0.0021\n",
      "Epoch 29/100\n",
      "11610/11610 [==============================] - 0s 32us/sample - loss: 0.3504 - accuracy: 0.0031 - val_loss: 0.3725 - val_accuracy: 0.0021\n",
      "Epoch 30/100\n",
      "11610/11610 [==============================] - 0s 32us/sample - loss: 0.3566 - accuracy: 0.0031 - val_loss: 0.3710 - val_accuracy: 0.0021\n",
      "Epoch 31/100\n",
      "11610/11610 [==============================] - 0s 32us/sample - loss: 0.3464 - accuracy: 0.0031 - val_loss: 0.3704 - val_accuracy: 0.0021\n",
      "Epoch 32/100\n",
      "11610/11610 [==============================] - 0s 32us/sample - loss: 0.3488 - accuracy: 0.0031 - val_loss: 0.3688 - val_accuracy: 0.0021\n",
      "Epoch 33/100\n",
      "11610/11610 [==============================] - 0s 32us/sample - loss: 0.3481 - accuracy: 0.0031 - val_loss: 0.3794 - val_accuracy: 0.0021\n",
      "Epoch 34/100\n",
      "11610/11610 [==============================] - 0s 33us/sample - loss: 0.3452 - accuracy: 0.0031 - val_loss: 0.3779 - val_accuracy: 0.0021\n",
      "Epoch 35/100\n",
      "11610/11610 [==============================] - 0s 32us/sample - loss: 0.3433 - accuracy: 0.0031 - val_loss: 0.3791 - val_accuracy: 0.0021\n",
      "Epoch 36/100\n",
      "11610/11610 [==============================] - 0s 32us/sample - loss: 0.3428 - accuracy: 0.0031 - val_loss: 0.3878 - val_accuracy: 0.0021\n",
      "Epoch 37/100\n",
      "11610/11610 [==============================] - 0s 33us/sample - loss: 0.3412 - accuracy: 0.0031 - val_loss: 0.3716 - val_accuracy: 0.0021\n"
     ]
    }
   ],
   "source": [
    "history = model.fit(x_train_scaler, y_train,\n",
    "                   validation_data = (x_valid_scaler,y_valid),\n",
    "                    epochs = 100,\n",
    "                    callbacks = callbacks             \n",
    "                   )"
   ]
  },
  {
   "cell_type": "code",
   "execution_count": null,
   "metadata": {},
   "outputs": [],
   "source": [
    "print(history.history)"
   ]
  },
  {
   "cell_type": "code",
   "execution_count": 13,
   "metadata": {},
   "outputs": [
    {
     "data": {
      "image/png": "[encoded data removed]",
      "text/plain": [
       "<Figure size 576x360 with 1 Axes>"
      ]
     },
     "metadata": {
      "needs_background": "light"
     },
     "output_type": "display_data"
    }
   ],
   "source": [
    "def plot_learning_curves(history):\n",
    "    pd.DataFrame(history.history).plot(figsize = (8,5))\n",
    "    plt.grid(True)\n",
    "    plt.gca().set_ylim(0,1)\n",
    "    plt.show()\n",
    "    \n",
    "plot_learning_curves(history)"
   ]
  },
  {
   "cell_type": "code",
   "execution_count": 14,
   "metadata": {},
   "outputs": [
    {
     "name": "stdout",
     "output_type": "stream",
     "text": [
      "5160/5160 [==============================] - 0s 17us/sample - loss: 0.4216\n"
     ]
    },
    {
     "data": {
      "text/plain": [
       "0.42158795382625375"
      ]
     },
     "execution_count": 14,
     "metadata": {},
     "output_type": "execute_result"
    }
   ],
   "source": [
    "model.evaluate(x_test_scaler, y_test)"
   ]
  },
  {
   "cell_type": "code",
   "execution_count": null,
   "metadata": {},
   "outputs": [],
   "source": []
  }
 ],
 "metadata": {
  "kernelspec": {
   "display_name": "Python 3",
   "language": "python",
   "name": "python3"
  },
  "language_info": {
   "codemirror_mode": {
    "name": "ipython",
    "version": 3
   },
   "file_extension": ".py",
   "mimetype": "text/x-python",
   "name": "python",
   "nbconvert_exporter": "python",
   "pygments_lexer": "ipython3",
   "version": "3.6.6"
  }
 },
 "nbformat": 4,
 "nbformat_minor": 4
}
