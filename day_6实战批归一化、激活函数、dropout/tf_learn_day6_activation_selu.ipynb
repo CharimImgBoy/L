{
 "cells": [
  {
   "cell_type": "code",
   "execution_count": 1,
   "metadata": {},
   "outputs": [
    {
     "name": "stdout",
     "output_type": "stream",
     "text": [
      "2.1.0\n",
      "2.2.4-tf\n"
     ]
    }
   ],
   "source": [
    "import tensorflow as tf\n",
    "from tensorflow import keras\n",
    "import matplotlib.pyplot as plt\n",
    "import numpy as np\n",
    "import os\n",
    "import sys\n",
    "import pandas as pd\n",
    "\n",
    "#查看tf 和 keras 的版本\n",
    "print(tf.__version__)\n",
    "print(tf.keras.__version__)"
   ]
  },
  {
   "cell_type": "code",
   "execution_count": 2,
   "metadata": {},
   "outputs": [
    {
     "name": "stdout",
     "output_type": "stream",
     "text": [
      "(5000, 28, 28) (5000,)\n",
      "(55000, 28, 28) (55000,)\n",
      "(10000, 28, 28) (10000,)\n"
     ]
    }
   ],
   "source": [
    "# 从 keras.datasets 里面 加载 fashion_mnist 的数据集（很多种类的黑白图片）\n",
    "fashion_mnist = keras.datasets.fashion_mnist\n",
    "\n",
    "#拆分训练集和测试集\n",
    "(x_train_all, y_train_all), (x_test, y_test) = fashion_mnist.load_data()\n",
    "\n",
    "#把训练集拆分成 训练集和验证集   验证集取前5000个数据， 训练集取5000以后的数据\n",
    "x_vaild, x_train = x_train_all[:5000], x_train_all[5000:]\n",
    "y_vaild, y_train = y_train_all[:5000], y_train_all[5000:]\n",
    "\n",
    "#打印 训练集、验证集、测试集的格式    （通过结果可以发现，验证集有5000个28*28的numpy数组，像素位在0~255 的数据，训练集有55000个，测试集有10000个）\n",
    "print(x_vaild.shape, y_vaild.shape)\n",
    "print(x_train.shape, y_train.shape) \n",
    "print(x_test.shape, y_test.shape)"
   ]
  },
  {
   "cell_type": "code",
   "execution_count": 3,
   "metadata": {},
   "outputs": [],
   "source": [
    "#进行数据归一化   # x =  (x-u) / std   u:均值   std:方差    --> 使用fit_transform方法实现\n",
    "import sklearn\n",
    "from sklearn.preprocessing import StandardScaler\n",
    "scaler = StandardScaler()\n",
    "\n",
    "x_train_scaled = scaler.fit_transform(x_train.astype(np.float32).reshape(-1,1)).reshape(-1,28,28)\n",
    "\n",
    "x_vaild_scaled = scaler.transform(x_vaild.astype(np.float32).reshape(-1,1)).reshape(-1,28,28)\n",
    "\n",
    "x_test_scaled = scaler.transform(x_test.astype(np.float32).reshape(-1,1)).reshape(-1,28,28)"
   ]
  },
  {
   "cell_type": "code",
   "execution_count": 4,
   "metadata": {},
   "outputs": [],
   "source": [
    "#tf.keras.models.Sequential()\n",
    "\n",
    "model = keras.models.Sequential()\n",
    "model.add(keras.layers.Flatten(input_shape = [28,28]))\n",
    "for _ in range(20):\n",
    "    # selu是自带归一化的激活函数\n",
    "    model.add(keras.layers.Dense(100, activation = \"selu\"))\n",
    "   \n",
    "model.add(keras.layers.Dense(10, activation = \"softmax\"))\n",
    "model.compile(loss = \"sparse_categorical_crossentropy\",  \n",
    "               optimizer = \"SGD\", #优化器\n",
    "               metrics = [\"accuracy\"])"
   ]
  },
  {
   "cell_type": "code",
   "execution_count": 5,
   "metadata": {},
   "outputs": [
    {
     "name": "stdout",
     "output_type": "stream",
     "text": [
      "Model: \"sequential\"\n",
      "_________________________________________________________________\n",
      "Layer (type)                 Output Shape              Param #   \n",
      "=================================================================\n",
      "flatten (Flatten)            (None, 784)               0         \n",
      "_________________________________________________________________\n",
      "dense (Dense)                (None, 100)               78500     \n",
      "_________________________________________________________________\n",
      "dense_1 (Dense)              (None, 100)               10100     \n",
      "_________________________________________________________________\n",
      "dense_2 (Dense)              (None, 100)               10100     \n",
      "_________________________________________________________________\n",
      "dense_3 (Dense)              (None, 100)               10100     \n",
      "_________________________________________________________________\n",
      "dense_4 (Dense)              (None, 100)               10100     \n",
      "_________________________________________________________________\n",
      "dense_5 (Dense)              (None, 100)               10100     \n",
      "_________________________________________________________________\n",
      "dense_6 (Dense)              (None, 100)               10100     \n",
      "_________________________________________________________________\n",
      "dense_7 (Dense)              (None, 100)               10100     \n",
      "_________________________________________________________________\n",
      "dense_8 (Dense)              (None, 100)               10100     \n",
      "_________________________________________________________________\n",
      "dense_9 (Dense)              (None, 100)               10100     \n",
      "_________________________________________________________________\n",
      "dense_10 (Dense)             (None, 100)               10100     \n",
      "_________________________________________________________________\n",
      "dense_11 (Dense)             (None, 100)               10100     \n",
      "_________________________________________________________________\n",
      "dense_12 (Dense)             (None, 100)               10100     \n",
      "_________________________________________________________________\n",
      "dense_13 (Dense)             (None, 100)               10100     \n",
      "_________________________________________________________________\n",
      "dense_14 (Dense)             (None, 100)               10100     \n",
      "_________________________________________________________________\n",
      "dense_15 (Dense)             (None, 100)               10100     \n",
      "_________________________________________________________________\n",
      "dense_16 (Dense)             (None, 100)               10100     \n",
      "_________________________________________________________________\n",
      "dense_17 (Dense)             (None, 100)               10100     \n",
      "_________________________________________________________________\n",
      "dense_18 (Dense)             (None, 100)               10100     \n",
      "_________________________________________________________________\n",
      "dense_19 (Dense)             (None, 100)               10100     \n",
      "_________________________________________________________________\n",
      "dense_20 (Dense)             (None, 10)                1010      \n",
      "=================================================================\n",
      "Total params: 271,410\n",
      "Trainable params: 271,410\n",
      "Non-trainable params: 0\n",
      "_________________________________________________________________\n"
     ]
    }
   ],
   "source": [
    "model.summary()"
   ]
  },
  {
   "cell_type": "code",
   "execution_count": 6,
   "metadata": {},
   "outputs": [
    {
     "name": "stdout",
     "output_type": "stream",
     "text": [
      "Train on 55000 samples, validate on 5000 samples\n",
      "Epoch 1/10\n",
      "55000/55000 [==============================] - 6s 118us/sample - loss: 0.5555 - accuracy: 0.7971 - val_loss: 0.4276 - val_accuracy: 0.8464\n",
      "Epoch 2/10\n",
      "55000/55000 [==============================] - 6s 101us/sample - loss: 0.4062 - accuracy: 0.8507 - val_loss: 0.3811 - val_accuracy: 0.8652\n",
      "Epoch 3/10\n",
      "55000/55000 [==============================] - 6s 100us/sample - loss: 0.3627 - accuracy: 0.8654 - val_loss: 0.3956 - val_accuracy: 0.8566\n",
      "Epoch 4/10\n",
      "55000/55000 [==============================] - 6s 101us/sample - loss: 0.3350 - accuracy: 0.8758 - val_loss: 0.3526 - val_accuracy: 0.8716\n",
      "Epoch 5/10\n",
      "55000/55000 [==============================] - 5s 99us/sample - loss: 0.3143 - accuracy: 0.8827 - val_loss: 0.3623 - val_accuracy: 0.8646\n",
      "Epoch 6/10\n",
      "55000/55000 [==============================] - 6s 100us/sample - loss: 0.3005 - accuracy: 0.8869 - val_loss: 0.3425 - val_accuracy: 0.8766\n",
      "Epoch 7/10\n",
      "55000/55000 [==============================] - 6s 101us/sample - loss: 0.2873 - accuracy: 0.8929 - val_loss: 0.3291 - val_accuracy: 0.8830\n",
      "Epoch 8/10\n",
      "55000/55000 [==============================] - 6s 100us/sample - loss: 0.2748 - accuracy: 0.8959 - val_loss: 0.3500 - val_accuracy: 0.8742\n",
      "Epoch 9/10\n",
      "55000/55000 [==============================] - 5s 100us/sample - loss: 0.2626 - accuracy: 0.9008 - val_loss: 0.3272 - val_accuracy: 0.8836\n",
      "Epoch 10/10\n",
      "55000/55000 [==============================] - 6s 102us/sample - loss: 0.2543 - accuracy: 0.9046 - val_loss: 0.3189 - val_accuracy: 0.8870\n"
     ]
    }
   ],
   "source": [
    "#使用fit方法进行训练模型，  epoches为训练次数， 结果中loss为待减少的损失值， accuracy为准确率, 验证准确率使用的数据集为x_vaild\n",
    "\n",
    "#tensorBoard, earlystopping, ModelCheckpoint\n",
    "#tensorBoard需要的是一个文件夹，  ModelCheckpoint需要的是该文件夹里的文件名\n",
    "#earlyStopping 是 一个触发式函数， patience: 没有进步的训练轮数，在这之后训练就会被停止。 被检测的数据monitor参数默认值为 loss值，\n",
    "#                                  min_delta: 在被监测的数据中被认为是提升的最小变化， 例如，小于 min_delta 的绝对变化会被认为没有提升。\n",
    "\n",
    "logdir = '.\\dnn-selu-callbacks'\n",
    "if not os.path.exists(logdir):\n",
    "    os.mkdir(logdir)\n",
    "output_model_file = os.path.join(logdir,'fashion_mnist_model.h5')\n",
    "callbacks = [\n",
    "    keras.callbacks.TensorBoard(logdir),\n",
    "    keras.callbacks.ModelCheckpoint(output_model_file, save_best_only = True),\n",
    "    keras.callbacks.EarlyStopping(patience = 5, min_delta = 1e-3),\n",
    "    \n",
    "    \n",
    "]\n",
    "\n",
    "history = model.fit(x_train_scaled, y_train, epochs = 10, \n",
    "         validation_data = (x_vaild_scaled, y_vaild),\n",
    "          callbacks = callbacks)"
   ]
  },
  {
   "cell_type": "code",
   "execution_count": 7,
   "metadata": {},
   "outputs": [
    {
     "data": {
      "image/png": "[encoded data removed]",
      "text/plain": [
       "<Figure size 576x360 with 1 Axes>"
      ]
     },
     "metadata": {
      "needs_background": "light"
     },
     "output_type": "display_data"
    }
   ],
   "source": [
    "def plot_leaning_curves(history):\n",
    "    pd.DataFrame(history.history).plot(figsize = (8,5))\n",
    "    plt.grid(True)\n",
    "    plt.gca().set_ylim(0,1)\n",
    "    plt.show()\n",
    "\n",
    "plot_leaning_curves(history)"
   ]
  },
  {
   "cell_type": "code",
   "execution_count": 8,
   "metadata": {},
   "outputs": [
    {
     "name": "stdout",
     "output_type": "stream",
     "text": [
      "10000/10000 [==============================] - 1s 52us/sample - loss: 0.3583 - accuracy: 0.8781\n",
      "   test_acc: 0.8781\n"
     ]
    }
   ],
   "source": [
    "#使用model.evaluate() 方法来验证测试集的准确率\n",
    "test_loss , test_acc = model.evaluate(x_test_scaled, y_test) \n",
    "print(\"   test_acc:\",test_acc)"
   ]
  },
  {
   "cell_type": "code",
   "execution_count": null,
   "metadata": {},
   "outputs": [],
   "source": []
  }
 ],
 "metadata": {
  "kernelspec": {
   "display_name": "Python 3",
   "language": "python",
   "name": "python3"
  },
  "language_info": {
   "codemirror_mode": {
    "name": "ipython",
    "version": 3
   },
   "file_extension": ".py",
   "mimetype": "text/x-python",
   "name": "python",
   "nbconvert_exporter": "python",
   "pygments_lexer": "ipython3",
   "version": "3.6.6"
  }
 },
 "nbformat": 4,
 "nbformat_minor": 1
}
